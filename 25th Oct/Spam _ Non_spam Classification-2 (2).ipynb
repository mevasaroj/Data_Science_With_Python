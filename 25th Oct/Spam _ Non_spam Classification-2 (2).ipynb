{
 "cells": [
  {
   "cell_type": "code",
   "execution_count": 8,
   "metadata": {},
   "outputs": [],
   "source": [
    "import pandas as pd #To handle Data\n",
    "import string #to handle punct\n",
    "from nltk.corpus import stopwords #for fillerwords or stopwords\n",
    "import nltk\n"
   ]
  },
  {
   "cell_type": "code",
   "execution_count": 9,
   "metadata": {},
   "outputs": [
    {
     "ename": "AttributeError",
     "evalue": "module 'nltk' has no attribute 'downloads'",
     "output_type": "error",
     "traceback": [
      "\u001b[0;31m---------------------------------------------------------------------------\u001b[0m",
      "\u001b[0;31mAttributeError\u001b[0m                            Traceback (most recent call last)",
      "\u001b[0;32m<ipython-input-9-6fa040ca30d3>\u001b[0m in \u001b[0;36m<module>\u001b[0;34m\u001b[0m\n\u001b[0;32m----> 1\u001b[0;31m \u001b[0mnltk\u001b[0m\u001b[0;34m.\u001b[0m\u001b[0mdownloads\u001b[0m\u001b[0;34m(\u001b[0m\u001b[0;34m'stopwords'\u001b[0m\u001b[0;34m)\u001b[0m\u001b[0;34m\u001b[0m\u001b[0;34m\u001b[0m\u001b[0m\n\u001b[0m",
      "\u001b[0;31mAttributeError\u001b[0m: module 'nltk' has no attribute 'downloads'"
     ]
    }
   ],
   "source": [
    "nltk.downloads('stopwords')"
   ]
  },
  {
   "cell_type": "code",
   "execution_count": 12,
   "metadata": {},
   "outputs": [],
   "source": [
    "df_spam = pd.read_csv('NB.csv', encoding = 'ISO-8859-1')"
   ]
  },
  {
   "cell_type": "code",
   "execution_count": 40,
   "metadata": {},
   "outputs": [
    {
     "data": {
      "text/plain": [
       "(5559, 2)"
      ]
     },
     "execution_count": 40,
     "metadata": {},
     "output_type": "execute_result"
    }
   ],
   "source": [
    "df_spam.shape"
   ]
  },
  {
   "cell_type": "code",
   "execution_count": 5,
   "metadata": {},
   "outputs": [
    {
     "data": {
      "text/plain": [
       "(5559, 2)"
      ]
     },
     "execution_count": 5,
     "metadata": {},
     "output_type": "execute_result"
    }
   ],
   "source": [
    "df_spam.shape"
   ]
  },
  {
   "cell_type": "code",
   "execution_count": 14,
   "metadata": {},
   "outputs": [
    {
     "data": {
      "text/plain": [
       "<AxesSubplot:xlabel='type', ylabel='count'>"
      ]
     },
     "execution_count": 14,
     "metadata": {},
     "output_type": "execute_result"
    },
    {
     "data": {
      "image/png": "[encoded data removed]",
      "text/plain": [
       "<Figure size 432x288 with 1 Axes>"
      ]
     },
     "metadata": {
      "needs_background": "light"
     },
     "output_type": "display_data"
    }
   ],
   "source": [
    "import seaborn as sns\n",
    "sns.countplot(df_spam['type'])"
   ]
  },
  {
   "cell_type": "code",
   "execution_count": 15,
   "metadata": {},
   "outputs": [
    {
     "data": {
      "text/plain": [
       "ham     4812\n",
       "spam     747\n",
       "Name: type, dtype: int64"
      ]
     },
     "execution_count": 15,
     "metadata": {},
     "output_type": "execute_result"
    }
   ],
   "source": [
    "df_spam['type'].value_counts()"
   ]
  },
  {
   "cell_type": "code",
   "execution_count": 19,
   "metadata": {},
   "outputs": [],
   "source": [
    "def message_text_process(mess):\n",
    "    no_punctuation = [char for char in mess if char not in string.punctuation]\n",
    "    no_punctuation = ''.join(no_punctuation)\n",
    "    return [word for word in no_punctuation.split() if word.lower() \n",
    "            not in stopwords.words('english')]"
   ]
  },
  {
   "cell_type": "code",
   "execution_count": 17,
   "metadata": {},
   "outputs": [
    {
     "name": "stdout",
     "output_type": "stream",
     "text": [
      "!\"#$%&'()*+,-./:;<=>?@[\\]^_`{|}~\n"
     ]
    }
   ],
   "source": [
    "print(string.punctuation)"
   ]
  },
  {
   "cell_type": "code",
   "execution_count": 18,
   "metadata": {},
   "outputs": [
    {
     "name": "stdout",
     "output_type": "stream",
     "text": [
      "['i', 'me', 'my', 'myself', 'we', 'our', 'ours', 'ourselves', 'you', \"you're\", \"you've\", \"you'll\", \"you'd\", 'your', 'yours', 'yourself', 'yourselves', 'he', 'him', 'his', 'himself', 'she', \"she's\", 'her', 'hers', 'herself', 'it', \"it's\", 'its', 'itself', 'they', 'them', 'their', 'theirs', 'themselves', 'what', 'which', 'who', 'whom', 'this', 'that', \"that'll\", 'these', 'those', 'am', 'is', 'are', 'was', 'were', 'be', 'been', 'being', 'have', 'has', 'had', 'having', 'do', 'does', 'did', 'doing', 'a', 'an', 'the', 'and', 'but', 'if', 'or', 'because', 'as', 'until', 'while', 'of', 'at', 'by', 'for', 'with', 'about', 'against', 'between', 'into', 'through', 'during', 'before', 'after', 'above', 'below', 'to', 'from', 'up', 'down', 'in', 'out', 'on', 'off', 'over', 'under', 'again', 'further', 'then', 'once', 'here', 'there', 'when', 'where', 'why', 'how', 'all', 'any', 'both', 'each', 'few', 'more', 'most', 'other', 'some', 'such', 'no', 'nor', 'not', 'only', 'own', 'same', 'so', 'than', 'too', 'very', 's', 't', 'can', 'will', 'just', 'don', \"don't\", 'should', \"should've\", 'now', 'd', 'll', 'm', 'o', 're', 've', 'y', 'ain', 'aren', \"aren't\", 'couldn', \"couldn't\", 'didn', \"didn't\", 'doesn', \"doesn't\", 'hadn', \"hadn't\", 'hasn', \"hasn't\", 'haven', \"haven't\", 'isn', \"isn't\", 'ma', 'mightn', \"mightn't\", 'mustn', \"mustn't\", 'needn', \"needn't\", 'shan', \"shan't\", 'shouldn', \"shouldn't\", 'wasn', \"wasn't\", 'weren', \"weren't\", 'won', \"won't\", 'wouldn', \"wouldn't\"]\n"
     ]
    }
   ],
   "source": [
    "print(stopwords.words('english'))"
   ]
  },
  {
   "cell_type": "code",
   "execution_count": 20,
   "metadata": {},
   "outputs": [
    {
     "data": {
      "text/plain": [
       "0                         [Hope, good, week, checking]\n",
       "1                                [Kgive, back, thanks]\n",
       "2                                     [also, cbe, pay]\n",
       "3    [complimentary, 4, STAR, Ibiza, Holiday, å£100...\n",
       "4    [okmail, Dear, Dave, final, notice, collect, 4...\n",
       "Name: text, dtype: object"
      ]
     },
     "execution_count": 20,
     "metadata": {},
     "output_type": "execute_result"
    }
   ],
   "source": [
    "df_spam['text'].head(5).apply(message_text_process)"
   ]
  },
  {
   "cell_type": "code",
   "execution_count": 21,
   "metadata": {},
   "outputs": [],
   "source": [
    "from sklearn.feature_extraction.text import CountVectorizer #DTM"
   ]
  },
  {
   "cell_type": "code",
   "execution_count": 25,
   "metadata": {},
   "outputs": [],
   "source": [
    "bag_words = CountVectorizer(analyzer = message_text_process).fit(df_spam['text'])"
   ]
  },
  {
   "cell_type": "code",
   "execution_count": 26,
   "metadata": {},
   "outputs": [
    {
     "name": "stdout",
     "output_type": "stream",
     "text": [
      "CountVectorizer(analyzer=<function message_text_process at 0x7f5e368ccc20>,\n",
      "                binary=False, decode_error='strict',\n",
      "                dtype=<class 'numpy.int64'>, encoding='utf-8', input='content',\n",
      "                lowercase=True, max_df=1.0, max_features=None, min_df=1,\n",
      "                ngram_range=(1, 1), preprocessor=None, stop_words=None,\n",
      "                strip_accents=None, token_pattern='(?u)\\\\b\\\\w\\\\w+\\\\b',\n",
      "                tokenizer=None, vocabulary=None)\n"
     ]
    }
   ],
   "source": [
    "print(bag_words)"
   ]
  },
  {
   "cell_type": "code",
   "execution_count": 27,
   "metadata": {},
   "outputs": [
    {
     "name": "stdout",
     "output_type": "stream",
     "text": [
      "11356\n"
     ]
    }
   ],
   "source": [
    "print(len(bag_words.vocabulary_))"
   ]
  },
  {
   "cell_type": "code",
   "execution_count": 28,
   "metadata": {},
   "outputs": [],
   "source": [
    "message_bagwords = bag_words.transform(df_spam['text'])"
   ]
  },
  {
   "cell_type": "code",
   "execution_count": 29,
   "metadata": {},
   "outputs": [
    {
     "name": "stdout",
     "output_type": "stream",
     "text": [
      "  (0, 2254)\t1\n",
      "  (0, 5414)\t1\n",
      "  (0, 6847)\t1\n",
      "  (0, 10943)\t1\n",
      "  (1, 2489)\t1\n",
      "  (1, 4865)\t1\n",
      "  (1, 10332)\t1\n",
      "  (2, 4611)\t1\n",
      "  (2, 5352)\t1\n",
      "  (2, 8719)\t1\n",
      "  (3, 262)\t1\n",
      "  (3, 605)\t1\n",
      "  (3, 1296)\t1\n",
      "  (3, 2244)\t1\n",
      "  (3, 2329)\t1\n",
      "  (3, 2588)\t1\n",
      "  (3, 3523)\t1\n",
      "  (3, 4066)\t1\n",
      "  (3, 5331)\t1\n",
      "  (3, 5554)\t1\n",
      "  (3, 5601)\t1\n",
      "  (3, 7847)\t1\n",
      "  (3, 8343)\t1\n",
      "  (3, 11304)\t1\n",
      "  (4, 224)\t1\n",
      "  :\t:\n",
      "  (5557, 509)\t1\n",
      "  (5557, 965)\t1\n",
      "  (5557, 1721)\t1\n",
      "  (5557, 1777)\t1\n",
      "  (5557, 1778)\t1\n",
      "  (5557, 2403)\t1\n",
      "  (5557, 2404)\t1\n",
      "  (5557, 3278)\t1\n",
      "  (5557, 3397)\t2\n",
      "  (5557, 3486)\t1\n",
      "  (5557, 4454)\t1\n",
      "  (5557, 7076)\t1\n",
      "  (5557, 7594)\t1\n",
      "  (5557, 7688)\t1\n",
      "  (5557, 8015)\t1\n",
      "  (5557, 9120)\t1\n",
      "  (5557, 9755)\t1\n",
      "  (5557, 10077)\t1\n",
      "  (5557, 10637)\t1\n",
      "  (5557, 10715)\t1\n",
      "  (5557, 11121)\t1\n",
      "  (5558, 3627)\t1\n",
      "  (5558, 5243)\t1\n",
      "  (5558, 5867)\t1\n",
      "  (5558, 6606)\t1\n"
     ]
    }
   ],
   "source": [
    "print(message_bagwords)"
   ]
  },
  {
   "cell_type": "code",
   "execution_count": 30,
   "metadata": {},
   "outputs": [
    {
     "name": "stdout",
     "output_type": "stream",
     "text": [
      "  (0, 2254)\t1\n",
      "  (0, 5414)\t1\n",
      "  (0, 6847)\t1\n",
      "  (0, 10943)\t1\n",
      "  (1, 2489)\t1\n",
      "  (1, 4865)\t1\n",
      "  (1, 10332)\t1\n",
      "  (2, 4611)\t1\n",
      "  (2, 5352)\t1\n",
      "  (2, 8719)\t1\n",
      "  (3, 262)\t1\n",
      "  (3, 605)\t1\n",
      "  (3, 1296)\t1\n",
      "  (3, 2244)\t1\n",
      "  (3, 2329)\t1\n",
      "  (3, 2588)\t1\n",
      "  (3, 3523)\t1\n",
      "  (3, 4066)\t1\n",
      "  (3, 5331)\t1\n",
      "  (3, 5554)\t1\n",
      "  (3, 5601)\t1\n",
      "  (3, 7847)\t1\n",
      "  (3, 8343)\t1\n",
      "  (3, 11304)\t1\n",
      "  (4, 224)\t1\n",
      "  :\t:\n",
      "  (5557, 509)\t1\n",
      "  (5557, 965)\t1\n",
      "  (5557, 1721)\t1\n",
      "  (5557, 1777)\t1\n",
      "  (5557, 1778)\t1\n",
      "  (5557, 2403)\t1\n",
      "  (5557, 2404)\t1\n",
      "  (5557, 3278)\t1\n",
      "  (5557, 3397)\t2\n",
      "  (5557, 3486)\t1\n",
      "  (5557, 4454)\t1\n",
      "  (5557, 7076)\t1\n",
      "  (5557, 7594)\t1\n",
      "  (5557, 7688)\t1\n",
      "  (5557, 8015)\t1\n",
      "  (5557, 9120)\t1\n",
      "  (5557, 9755)\t1\n",
      "  (5557, 10077)\t1\n",
      "  (5557, 10637)\t1\n",
      "  (5557, 10715)\t1\n",
      "  (5557, 11121)\t1\n",
      "  (5558, 3627)\t1\n",
      "  (5558, 5243)\t1\n",
      "  (5558, 5867)\t1\n",
      "  (5558, 6606)\t1\n"
     ]
    }
   ],
   "source": [
    "print(message_bagwords)"
   ]
  },
  {
   "cell_type": "code",
   "execution_count": 30,
   "metadata": {},
   "outputs": [],
   "source": [
    "from sklearn.feature_extraction.text import TfidfTransformer\n",
    "tfidf_transformer = TfidfTransformer().fit(message_bagwords)"
   ]
  },
  {
   "cell_type": "code",
   "execution_count": 31,
   "metadata": {},
   "outputs": [],
   "source": [
    "message_tfidf = tfidf_transformer.transform(message_bagwords)"
   ]
  },
  {
   "cell_type": "code",
   "execution_count": 32,
   "metadata": {},
   "outputs": [
    {
     "name": "stdout",
     "output_type": "stream",
     "text": [
      "(5559, 11356)\n",
      "  (0, 10943)\t0.4379039903544475\n",
      "  (0, 6847)\t0.4079211665788139\n",
      "  (0, 5414)\t0.6229255062832731\n",
      "  (0, 2254)\t0.5037898676138289\n",
      "  (1, 10332)\t0.53343447866409\n",
      "  (1, 4865)\t0.3941617905371652\n",
      "  (1, 2489)\t0.7483876935472058\n",
      "  (2, 8719)\t0.5395126957976536\n",
      "  (2, 5352)\t0.6872527142806397\n",
      "  (2, 4611)\t0.486425490478287\n",
      "  (3, 11304)\t0.2886588513405475\n",
      "  (3, 8343)\t0.26016042466750977\n",
      "  (3, 7847)\t0.26016042466750977\n",
      "  (3, 5601)\t0.26016042466750977\n",
      "  (3, 5554)\t0.2332211897066975\n",
      "  (3, 5331)\t0.20699668006135605\n",
      "  (3, 4066)\t0.2169360073935419\n",
      "  (3, 3523)\t0.32915177840434773\n",
      "  (3, 2588)\t0.2780553934168467\n",
      "  (3, 2329)\t0.2953789049732685\n",
      "  (3, 2244)\t0.24076955349243523\n",
      "  (3, 1296)\t0.32915177840434773\n",
      "  (3, 605)\t0.147541827236046\n",
      "  (3, 262)\t0.32915177840434773\n",
      "  (4, 8523)\t0.2839777476652211\n",
      "  :\t:\n",
      "  (5557, 10715)\t0.11021052039206913\n",
      "  (5557, 10637)\t0.08306947846909804\n",
      "  (5557, 10077)\t0.2120492716727746\n",
      "  (5557, 9755)\t0.2417954431547904\n",
      "  (5557, 9120)\t0.1353368128310807\n",
      "  (5557, 8015)\t0.17033997821294367\n",
      "  (5557, 7688)\t0.2417954431547904\n",
      "  (5557, 7594)\t0.11239526401409226\n",
      "  (5557, 7076)\t0.2120492716727746\n",
      "  (5557, 4454)\t0.21698583423374507\n",
      "  (5557, 3486)\t0.17340848066985723\n",
      "  (5557, 3397)\t0.3092814720540294\n",
      "  (5557, 3278)\t0.2417954431547904\n",
      "  (5557, 2404)\t0.2417954431547904\n",
      "  (5557, 2403)\t0.2417954431547904\n",
      "  (5557, 1778)\t0.22302769851194781\n",
      "  (5557, 1777)\t0.23081701631561713\n",
      "  (5557, 1721)\t0.21698583423374507\n",
      "  (5557, 965)\t0.2417954431547904\n",
      "  (5557, 509)\t0.20107084483360138\n",
      "  (5557, 508)\t0.2417954431547904\n",
      "  (5558, 6606)\t0.5520829471894015\n",
      "  (5558, 5867)\t0.4731191313854887\n",
      "  (5558, 5243)\t0.31376939786554225\n",
      "  (5558, 3627)\t0.6106647786656769\n"
     ]
    }
   ],
   "source": [
    "print(message_tfidf.shape)\n",
    "print(message_tfidf)"
   ]
  },
  {
   "cell_type": "code",
   "execution_count": null,
   "metadata": {},
   "outputs": [],
   "source": []
  },
  {
   "cell_type": "code",
   "execution_count": 33,
   "metadata": {},
   "outputs": [],
   "source": [
    "X = message_tfidf\n",
    "y = df_spam['type']"
   ]
  },
  {
   "cell_type": "code",
   "execution_count": 34,
   "metadata": {},
   "outputs": [],
   "source": [
    "from sklearn.model_selection import train_test_split\n",
    "\n",
    "X_train,X_test,y_train,y_test = train_test_split(X,y, test_size = 0.2)"
   ]
  },
  {
   "cell_type": "code",
   "execution_count": 35,
   "metadata": {},
   "outputs": [],
   "source": [
    "from sklearn.naive_bayes import MultinomialNB\n",
    "from sklearn import neighbors\n",
    "spam_detect = MultinomialNB().fit(X_train,y_train)\n",
    "#spam_detect = neighbors.KNeighborsClassifier(n_neighbors=13).fit(X_train,y_train)\n"
   ]
  },
  {
   "cell_type": "code",
   "execution_count": 36,
   "metadata": {},
   "outputs": [],
   "source": [
    "predicted = spam_detect.predict(X_test)"
   ]
  },
  {
   "cell_type": "code",
   "execution_count": 37,
   "metadata": {},
   "outputs": [
    {
     "data": {
      "text/plain": [
       "array(['ham', 'ham', 'ham', ..., 'ham', 'ham', 'spam'], dtype='<U4')"
      ]
     },
     "execution_count": 37,
     "metadata": {},
     "output_type": "execute_result"
    }
   ],
   "source": [
    "predicted"
   ]
  },
  {
   "cell_type": "code",
   "execution_count": 38,
   "metadata": {},
   "outputs": [
    {
     "name": "stdout",
     "output_type": "stream",
     "text": [
      "              precision    recall  f1-score   support\n",
      "\n",
      "         ham       0.96      1.00      0.98       978\n",
      "        spam       1.00      0.69      0.81       134\n",
      "\n",
      "    accuracy                           0.96      1112\n",
      "   macro avg       0.98      0.84      0.90      1112\n",
      "weighted avg       0.96      0.96      0.96      1112\n",
      "\n",
      "[[978   0]\n",
      " [ 42  92]]\n"
     ]
    }
   ],
   "source": [
    "expected = y_test\n",
    "\n",
    "from sklearn import metrics\n",
    "print(metrics.classification_report(expected, predicted))\n",
    "print(metrics.confusion_matrix(expected, predicted))"
   ]
  },
  {
   "cell_type": "code",
   "execution_count": 39,
   "metadata": {},
   "outputs": [
    {
     "data": {
      "text/plain": [
       "0.9622302158273381"
      ]
     },
     "execution_count": 39,
     "metadata": {},
     "output_type": "execute_result"
    }
   ],
   "source": [
    " from sklearn.metrics import accuracy_score\n",
    "\n",
    "accuracy_score(y_test,predicted)"
   ]
  },
  {
   "cell_type": "code",
   "execution_count": null,
   "metadata": {},
   "outputs": [],
   "source": []
  }
 ],
 "metadata": {
  "kernelspec": {
   "display_name": "Python 3",
   "language": "python",
   "name": "python3"
  },
  "language_info": {
   "codemirror_mode": {
    "name": "ipython",
    "version": 3
   },
   "file_extension": ".py",
   "mimetype": "text/x-python",
   "name": "python",
   "nbconvert_exporter": "python",
   "pygments_lexer": "ipython3",
   "version": "3.7.6"
  }
 },
 "nbformat": 4,
 "nbformat_minor": 4
}
